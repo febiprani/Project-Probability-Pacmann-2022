{
 "cells": [
  {
   "cell_type": "code",
   "execution_count": 1,
   "id": "7dbbfa90",
   "metadata": {},
   "outputs": [],
   "source": [
    "import pandas as pd\n",
    "import numpy as np\n",
    "import matplotlib.pyplot as plt\n",
    "import seaborn as sns\n",
    "from scipy.stats import ttest_ind\n"
   ]
  },
  {
   "cell_type": "code",
   "execution_count": 2,
   "id": "0992c952",
   "metadata": {},
   "outputs": [],
   "source": [
    "insurance=pd.read_csv(\"D:\\Bootcamp Task\\insurance.csv\")"
   ]
  },
  {
   "cell_type": "code",
   "execution_count": 7,
   "id": "b01cb61a",
   "metadata": {
    "scrolled": true
   },
   "outputs": [
    {
     "name": "stdout",
     "output_type": "stream",
     "text": [
      "<class 'pandas.core.frame.DataFrame'>\n",
      "RangeIndex: 1338 entries, 0 to 1337\n",
      "Data columns (total 7 columns):\n",
      " #   Column    Non-Null Count  Dtype  \n",
      "---  ------    --------------  -----  \n",
      " 0   age       1338 non-null   int64  \n",
      " 1   sex       1338 non-null   object \n",
      " 2   bmi       1338 non-null   float64\n",
      " 3   children  1338 non-null   int64  \n",
      " 4   smoker    1338 non-null   object \n",
      " 5   region    1338 non-null   object \n",
      " 6   charges   1338 non-null   float64\n",
      "dtypes: float64(2), int64(2), object(3)\n",
      "memory usage: 73.3+ KB\n"
     ]
    }
   ],
   "source": [
    "insurance.info()"
   ]
  },
  {
   "cell_type": "markdown",
   "id": "0b891ade",
   "metadata": {},
   "source": [
    "# Analisa Descriptive Statistic\n",
    "### 1. Rata-rata umur pengguna?"
   ]
  },
  {
   "cell_type": "code",
   "execution_count": 5,
   "id": "88faac29",
   "metadata": {},
   "outputs": [
    {
     "name": "stdout",
     "output_type": "stream",
     "text": [
      "Rata-rata umur pengguna asuransi adalah 39.0 tahun\n"
     ]
    }
   ],
   "source": [
    "print('Rata-rata umur pengguna asuransi adalah', round(insurance['age'].mean(),0), 'tahun')"
   ]
  },
  {
   "cell_type": "markdown",
   "id": "a5644926",
   "metadata": {},
   "source": [
    "### 2. Rata-rata nilai BMI dari pengguna yang merokok"
   ]
  },
  {
   "cell_type": "code",
   "execution_count": 14,
   "id": "4f6f2647",
   "metadata": {},
   "outputs": [
    {
     "name": "stdout",
     "output_type": "stream",
     "text": [
      "Rata-rata nilai BMI dari pengguna yang merokok adalah 30.708\n"
     ]
    }
   ],
   "source": [
    "smoker=insurance.loc[(insurance['smoker']=='yes')]\n",
    "print('Rata-rata nilai BMI dari pengguna yang merokok adalah' ,round(smoker['bmi'].mean(),3))"
   ]
  },
  {
   "cell_type": "markdown",
   "id": "5a056072",
   "metadata": {},
   "source": [
    "### 3. Berapa rata rata umur pada data tersebut?"
   ]
  },
  {
   "cell_type": "code",
   "execution_count": 15,
   "id": "6073df97",
   "metadata": {},
   "outputs": [
    {
     "name": "stdout",
     "output_type": "stream",
     "text": [
      "Rata-rata umur pengguna yang merokok adalah 39.0 tahun\n"
     ]
    }
   ],
   "source": [
    "print('Rata-rata umur pengguna yang merokok adalah' ,round(smoker['age'].mean(),0), 'tahun')"
   ]
  },
  {
   "cell_type": "markdown",
   "id": "668f9745",
   "metadata": {},
   "source": [
    "### 4. Berapa rata rata nilai BMI dari yang merokok?"
   ]
  },
  {
   "cell_type": "code",
   "execution_count": 17,
   "id": "9269a7ef",
   "metadata": {},
   "outputs": [
    {
     "name": "stdout",
     "output_type": "stream",
     "text": [
      "Rata-rata nilai BMI dari pengguna yang merokok adalah 30.708\n"
     ]
    }
   ],
   "source": [
    "print('Rata-rata nilai BMI dari pengguna yang merokok adalah' ,round(smoker['bmi'].mean(),3))"
   ]
  },
  {
   "cell_type": "markdown",
   "id": "696fd687",
   "metadata": {},
   "source": [
    "### 5. Apakah variansi dari data charges perokok dan non perokok sama?"
   ]
  },
  {
   "cell_type": "code",
   "execution_count": 24,
   "id": "5cc5c26b",
   "metadata": {},
   "outputs": [
    {
     "name": "stdout",
     "output_type": "stream",
     "text": [
      "Variasi dari data Charges perokok dan non perokok beda\n"
     ]
    }
   ],
   "source": [
    "nonsmoker=insurance.loc[(insurance['smoker']=='no')]\n",
    "\n",
    "if np.var(smoker['charges']) == np.var(nonsmoker['charges']):\n",
    "    print('Variasi dari data Charges perokok dan non perokok sama')\n",
    "else:\n",
    "    print('Variasi dari data Charges perokok dan non perokok beda')"
   ]
  },
  {
   "cell_type": "markdown",
   "id": "bedddcbb",
   "metadata": {},
   "source": [
    "### 6. Apakah rata rata umur perempuan dan laki-laki yang merokok sama?"
   ]
  },
  {
   "cell_type": "code",
   "execution_count": 25,
   "id": "60b111d2",
   "metadata": {},
   "outputs": [
    {
     "name": "stdout",
     "output_type": "stream",
     "text": [
      "Rata-rata umur perempuan dan laki-laki yang merokok beda\n"
     ]
    }
   ],
   "source": [
    "msmoker=smoker.loc[(smoker['sex']=='male')]\n",
    "fsmoker=smoker.loc[(smoker['sex']=='female')]\n",
    "\n",
    "if round(msmoker['age'].mean(),0) == round(fsmoker['age'].mean(),0):\n",
    "    print('Rata-rata umur perempuan dan laki-laki yang merokok sama')\n",
    "else:\n",
    "    print('Rata-rata umur perempuan dan laki-laki yang merokok beda')"
   ]
  },
  {
   "cell_type": "markdown",
   "id": "0dab9f7f",
   "metadata": {},
   "source": [
    "### 7. Mana yang lebih tinggi, rata rata tagihan kesehatan perokok atau non merokok?"
   ]
  },
  {
   "cell_type": "code",
   "execution_count": 26,
   "id": "d66ac597",
   "metadata": {},
   "outputs": [
    {
     "name": "stdout",
     "output_type": "stream",
     "text": [
      "Rata-rata tagihan kesehatan perokok lebih tinggi dari non perokok\n"
     ]
    }
   ],
   "source": [
    "if smoker['charges'].mean() > nonsmoker['charges'].mean():\n",
    "    print('Rata-rata tagihan kesehatan perokok lebih tinggi dari non perokok')\n",
    "else:\n",
    "    print('Rata-rata tagihan kesehatan non perokok lebih tinggi dari perokok')"
   ]
  },
  {
   "cell_type": "markdown",
   "id": "fbb99f3d",
   "metadata": {},
   "source": [
    "### 8. Mana yang lebih tinggi, rata rata tagihan kesehatan perokok yang BMI nya diatas 25 atau non perokok yang BMI nya diatas 25"
   ]
  },
  {
   "cell_type": "code",
   "execution_count": 28,
   "id": "bf06803f",
   "metadata": {},
   "outputs": [
    {
     "name": "stdout",
     "output_type": "stream",
     "text": [
      "Rata-rata tagihan kesehatan perokok yang BMI nya diatas 25 lebih tinggi dari rata-rata tagihan kesehatan non perokok yang BMI nya diatas 25\n"
     ]
    }
   ],
   "source": [
    "if (smoker.loc[smoker['bmi']>25])['charges'].mean() > (nonsmoker.loc[nonsmoker['bmi']>25])['charges'].mean():\n",
    "    print('Rata-rata tagihan kesehatan perokok yang BMI nya diatas 25 lebih tinggi dari rata-rata tagihan kesehatan non perokok yang BMI nya diatas 25')\n",
    "else:\n",
    "    print('Rata-rata tagihan kesehatan non perokok yang BMI nya diatas 25 lebih tinggi dari rata-rata tagihan kesehatan perokok yang BMI nya diatas 25')"
   ]
  },
  {
   "cell_type": "markdown",
   "id": "7661947d",
   "metadata": {},
   "source": [
    "### 9. BMI mana yang lebih tinggi, seseorang laki-laki atau perempuan?"
   ]
  },
  {
   "cell_type": "code",
   "execution_count": 30,
   "id": "319c8338",
   "metadata": {},
   "outputs": [
    {
     "name": "stdout",
     "output_type": "stream",
     "text": [
      "Rata-rata BMI laki-laki lebih tinggi dari BMI perempuan\n"
     ]
    }
   ],
   "source": [
    "if insurance[insurance['sex']=='male']['bmi'].mean() > insurance[insurance['sex']=='female']['bmi'].mean():\n",
    "    print('Rata-rata BMI laki-laki lebih tinggi dari BMI perempuan')\n",
    "else:\n",
    "    print('Rata-rata BMI perempuan lebih tinggi dari BMI laki-laki')"
   ]
  },
  {
   "cell_type": "markdown",
   "id": "d1386caa",
   "metadata": {},
   "source": [
    "### 10. BMI mana yang lebih tinggi, seseorang perokok atau non perokok?"
   ]
  },
  {
   "cell_type": "code",
   "execution_count": 31,
   "id": "39f94196",
   "metadata": {},
   "outputs": [
    {
     "name": "stdout",
     "output_type": "stream",
     "text": [
      "Rata-rata BMI perokok lebih tinggi dari BMI non perokok\n"
     ]
    }
   ],
   "source": [
    "if smoker['bmi'].mean() > nonsmoker['bmi'].mean():\n",
    "    print('Rata-rata BMI perokok lebih tinggi dari BMI non perokok')\n",
    "else:\n",
    "    print('Rata-rata BMI non perokok lebih tinggi dari BMI perokok')"
   ]
  },
  {
   "cell_type": "markdown",
   "id": "4ed34343",
   "metadata": {},
   "source": [
    "# Analisa Variabel Kategorik (PMF)\n",
    "### 1. Gender mana yang memiliki tagihan paling tinggi?\n"
   ]
  },
  {
   "cell_type": "code",
   "execution_count": 32,
   "id": "5b7bee2e",
   "metadata": {},
   "outputs": [
    {
     "name": "stdout",
     "output_type": "stream",
     "text": [
      "Rata-rata tagihan laki-laki lebih tinggi dari tagihan perempuan\n"
     ]
    }
   ],
   "source": [
    "if insurance[insurance['sex']=='male']['charges'].mean() > insurance[insurance['sex']=='female']['charges'].mean():\n",
    "    print('Rata-rata tagihan laki-laki lebih tinggi dari tagihan perempuan')\n",
    "else:\n",
    "    print('Rata-rata tagihan perempuan lebih tinggi dari tagihan laki-laki')"
   ]
  },
  {
   "cell_type": "markdown",
   "id": "2ce9421a",
   "metadata": {},
   "source": [
    "### 2. Distribusi peluang tagihan di tiap-tiap region"
   ]
  },
  {
   "cell_type": "code",
   "execution_count": 90,
   "id": "8f479e55",
   "metadata": {},
   "outputs": [
    {
     "name": "stdout",
     "output_type": "stream",
     "text": [
      "Distribusi peluang northeast adalah 24.46 %\n",
      "Distribusi peluang northwest adalah 22.73 %\n",
      "Distribusi peluang southeast adalah 30.21 %\n",
      "Distribusi peluang southwest adalah 22.6 %\n"
     ]
    }
   ],
   "source": [
    "pcharge_northeast=np.sum(insurance[insurance['region']=='northeast']['charges'])/np.sum(insurance['charges'])*100\n",
    "pcharge_northwest=np.sum(insurance[insurance['region']=='northwest']['charges'])/np.sum(insurance['charges'])*100\n",
    "pcharge_southeast=np.sum(insurance[insurance['region']=='southeast']['charges'])/np.sum(insurance['charges'])*100\n",
    "pcharge_southwest=np.sum(insurance[insurance['region']=='southwest']['charges'])/np.sum(insurance['charges'])*100\n",
    "\n",
    "print('Distribusi peluang northeast adalah' ,round(pcharge_northeast,2),'%')\n",
    "print('Distribusi peluang northwest adalah' ,round(pcharge_northwest,2),'%')\n",
    "print('Distribusi peluang southeast adalah' ,round(pcharge_southeast,2),'%')\n",
    "print('Distribusi peluang southwest adalah' ,round(pcharge_southwest,2),'%')"
   ]
  },
  {
   "cell_type": "markdown",
   "id": "96a4e794",
   "metadata": {},
   "source": [
    "### 3. Apakah setiap region memiliki proporsi data banyak orang yang sama?"
   ]
  },
  {
   "cell_type": "code",
   "execution_count": 64,
   "id": "7f7d3302",
   "metadata": {},
   "outputs": [
    {
     "name": "stdout",
     "output_type": "stream",
     "text": [
      "Proporsi banyaknya orang untuk region northeast sebanyak  24.22 %\n",
      "Proporsi banyaknya orang untuk region northwest sebanyak  24.29 %\n",
      "Proporsi banyaknya orang untuk region southeast sebanyak  27.2 %\n",
      "Proporsi banyaknya orang untuk region southwest sebanyak  24.29 %\n",
      "Sehingga proporsi banyaknya orang setiap region beda\n"
     ]
    }
   ],
   "source": [
    "j_northeast=round((insurance[insurance['region']=='northeast']['region']).count()/(insurance['region']).count()*100,2)\n",
    "j_northwest=round((insurance[insurance['region']=='northwest']['region']).count()/(insurance['region']).count()*100,2)\n",
    "j_southeast=round((insurance[insurance['region']=='southeast']['region']).count()/(insurance['region']).count()*100,2)\n",
    "j_southwest=round((insurance[insurance['region']=='southwest']['region']).count()/(insurance['region']).count()*100,2)\n",
    "\n",
    "print('Proporsi banyaknya orang untuk region northeast sebanyak ' , j_northeast,'%')\n",
    "print('Proporsi banyaknya orang untuk region northwest sebanyak ' , j_northwest,'%')\n",
    "print('Proporsi banyaknya orang untuk region southeast sebanyak ' , j_southeast,'%')\n",
    "print('Proporsi banyaknya orang untuk region southwest sebanyak ' , j_southwest,'%')\n",
    "\n",
    "if j_northeast==j_northwest==j_southeast==j_southwest:\n",
    "    print('Sehingga proporsi banyaknya orang setiap region sama')\n",
    "else:\n",
    "    print('Sehingga proporsi banyaknya orang setiap region beda')"
   ]
  },
  {
   "cell_type": "markdown",
   "id": "93cf95e1",
   "metadata": {},
   "source": [
    "### 4. Mana yang lebih tinggi proporsi perokok atau non perokok?"
   ]
  },
  {
   "cell_type": "code",
   "execution_count": 68,
   "id": "b24ceab3",
   "metadata": {},
   "outputs": [
    {
     "name": "stdout",
     "output_type": "stream",
     "text": [
      "Proporsi non perokok lebih tinggi dari perokok\n"
     ]
    }
   ],
   "source": [
    "if round((insurance[insurance['smoker']=='yes']['smoker']).count()/(insurance['smoker']).count()*100,2) > round((insurance[insurance['smoker']=='no']['smoker']).count()/(insurance['smoker']).count()*100,2):\n",
    "    print('Proporsi perokok lebih tinggi dari non perokok')\n",
    "else:\n",
    "    print('Proporsi non perokok lebih tinggi dari perokok')"
   ]
  },
  {
   "cell_type": "markdown",
   "id": "e14607c4",
   "metadata": {},
   "source": [
    "### 5. Berapa peluang seseorang tersebut adalah perempuan diketahui dia adalah perokok?"
   ]
  },
  {
   "cell_type": "code",
   "execution_count": 87,
   "id": "1530f28f",
   "metadata": {},
   "outputs": [
    {
     "name": "stdout",
     "output_type": "stream",
     "text": [
      "Peluang seseorang tersebut adalah perempuan jika diketahui dia perokok adalah  0.42\n"
     ]
    }
   ],
   "source": [
    "print('Peluang seseorang tersebut adalah perempuan jika diketahui dia perokok adalah ',round(fsmoker['smoker'].count()/smoker['smoker'].count(),3))"
   ]
  },
  {
   "cell_type": "markdown",
   "id": "b9bba0d7",
   "metadata": {},
   "source": [
    "### 6. Berapa peluang seseorang tersebut adalah laki-laki diketahui dia adalah perokok?"
   ]
  },
  {
   "cell_type": "code",
   "execution_count": 88,
   "id": "a97c28d4",
   "metadata": {},
   "outputs": [
    {
     "name": "stdout",
     "output_type": "stream",
     "text": [
      "Peluang seseorang tersebut adalah laki-laki jika diketahui dia perokok adalah  0.58\n"
     ]
    }
   ],
   "source": [
    "print('Peluang seseorang tersebut adalah laki-laki jika diketahui dia perokok adalah ',round(msmoker['smoker'].count()/smoker['smoker'].count(),3))"
   ]
  },
  {
   "cell_type": "markdown",
   "id": "70f02828",
   "metadata": {},
   "source": [
    "### 7. Bagaimana bentuk distribusi peluang besar tagihan dari tiap-tiap region?"
   ]
  },
  {
   "cell_type": "code",
   "execution_count": 108,
   "id": "d2d95137",
   "metadata": {},
   "outputs": [
    {
     "data": {
      "image/png": "[encoded data removed]",
      "text/plain": [
       "<Figure size 432x288 with 1 Axes>"
      ]
     },
     "metadata": {
      "needs_background": "light"
     },
     "output_type": "display_data"
    }
   ],
   "source": [
    "#Distribusi Peluang Setiap Region Memiliki Tagihan \n",
    "x = ['northeast','northwest','southeast','southwest']\n",
    "y = [round(pcharge_northeast,1), round(pcharge_northwest,1), round(pcharge_southeast,1), round(pcharge_southwest,1)]\n",
    "warna = ['yellow', 'brown', 'green', 'blue']\n",
    "plt.bar(x,y,color=warna)\n",
    "plt.xlabel('Region')\n",
    "plt.ylabel('Peluang')\n",
    "plt.title('Peluang Tagihan Tiap Region')\n",
    "for i in range(len(x)):\n",
    "    plt.text(i, y[i], y[i], ha='center', va='bottom')\n",
    "plt.show()"
   ]
  },
  {
   "cell_type": "markdown",
   "id": "0e202be6",
   "metadata": {},
   "source": [
    "# Analisa Variabel Kontinu\n",
    "### 1. Mana yang lebih mungkin terjadi\n",
    "- a. Seseorang dengan BMI diatas 25 mendapatkan tagihan kesehatan diatas 16.7k, atau\n",
    "- b. Seseorang dengan BMI dibawah 25 mendapatkan tagihan kesehatan diatas 16.7k\n"
   ]
  },
  {
   "cell_type": "code",
   "execution_count": 124,
   "id": "9b8892ce",
   "metadata": {},
   "outputs": [
    {
     "name": "stdout",
     "output_type": "stream",
     "text": [
      "Sehingga peluang seseorang dengan BMI diatas 25 dan tagihan kesehatan diatas 16.7K lebih besar dari peluang seseorang dengan BMI dibawah 25 dan tagihan kesehatan diatas 16.7K\n"
     ]
    }
   ],
   "source": [
    "nomor1a=insurance.loc[(insurance['bmi']>25) & (insurance['charges']>16700)]['age'].count()/(insurance['age']).count()\n",
    "nomor1b=insurance.loc[(insurance['bmi']<25) & (insurance['charges']>16700)]['age'].count()/(insurance['age']).count()\n",
    "\n",
    "if nomor1a > nomor1b:\n",
    "    print('Sehingga peluang seseorang dengan BMI diatas 25 dan tagihan kesehatan diatas 16.7K lebih besar dari peluang seseorang dengan BMI dibawah 25 dan tagihan kesehatan diatas 16.7K')\n",
    "else:\n",
    "    print('Sehingga peluang seseorang dengan BMI dibawah 25 dan tagihan kesehatan diatas 16.7K lebih besar dari peluang seseorang dengan BMI diatas 25 dan tagihan kesehatan diatas 16.7K')"
   ]
  },
  {
   "cell_type": "markdown",
   "id": "3ca16ec0",
   "metadata": {},
   "source": [
    "### 2. Mana yang lebih mungkin terjadi\n",
    "- a. Seseorang perokok dengan BMI diatas 25 mendapatkan tagihan kesehatan diatas 16.7k,\n",
    "    atau\n",
    "- b. Seseorang non perokok dengan BMI diatas 25 mendapatkan tagihan kesehatan diatas 16.7k"
   ]
  },
  {
   "cell_type": "code",
   "execution_count": 125,
   "id": "a809cb28",
   "metadata": {},
   "outputs": [
    {
     "name": "stdout",
     "output_type": "stream",
     "text": [
      "Sehingga peluang seseorang perokok dengan BMI diatas 25 dan tagihan kesehatan diatas 16.7K lebih besar dari peluang seseorang non perokok dengan BMI diatas 25 dan tagihan kesehatan diatas 16.7K\n"
     ]
    }
   ],
   "source": [
    "nomor2a=smoker.loc[(smoker['bmi']>25) & (smoker['charges']>16700)]['age'].count()/(smoker['age']).count()\n",
    "nomor2b=nonsmoker.loc[(nonsmoker['bmi']>25) & (nonsmoker['charges']>16700)]['age'].count()/(nonsmoker['age']).count()\n",
    "\n",
    "if nomor2a > nomor2b:\n",
    "    print('Sehingga peluang seseorang perokok dengan BMI diatas 25 dan tagihan kesehatan diatas 16.7K lebih besar dari peluang seseorang non perokok dengan BMI diatas 25 dan tagihan kesehatan diatas 16.7K')\n",
    "else:\n",
    "    print('Sehingga peluang seseorang non perokok dengan BMI diatas 25 dan tagihan kesehatan diatas 16.7K lebih besar dari peluang seseorang perokok dengan BMI diatas 25 dan tagihan kesehatan diatas 16.7K')"
   ]
  },
  {
   "cell_type": "markdown",
   "id": "ddac0bcd",
   "metadata": {},
   "source": [
    "# Analisa Korelasi Variabel"
   ]
  },
  {
   "cell_type": "code",
   "execution_count": 150,
   "id": "d5c778c7",
   "metadata": {},
   "outputs": [
    {
     "data": {
      "image/png": "[encoded data removed]",
      "text/plain": [
       "<Figure size 432x288 with 2 Axes>"
      ]
     },
     "metadata": {
      "needs_background": "light"
     },
     "output_type": "display_data"
    }
   ],
   "source": [
    "plt.subplots(figure)\n",
    "sns.heatmap(insurance.corr(), annot = True, linewidths=1.5 , fmt = \".2f\")\n",
    "plt.show()"
   ]
  },
  {
   "cell_type": "markdown",
   "id": "86e604b6",
   "metadata": {},
   "source": [
    "Dari nilai korelasi diatas, diambil 2 indikator yang memiliki nilai korelasi tertinggi yaitu\n",
    "- age vs charge dengan nilai korelasi positif 0.3 dan\n",
    "- bmi vs charge dengan nilai korelasi positif 0.2"
   ]
  },
  {
   "cell_type": "code",
   "execution_count": 156,
   "id": "a2091638",
   "metadata": {},
   "outputs": [
    {
     "data": {
      "text/plain": [
       "Text(0.5, 1.0, 'Sebaran umur dan tagihan kesehatan pengguna asuransi')"
      ]
     },
     "execution_count": 156,
     "metadata": {},
     "output_type": "execute_result"
    },
    {
     "data": {
      "image/png": "[encoded data removed]",
      "text/plain": [
       "<Figure size 432x288 with 1 Axes>"
      ]
     },
     "metadata": {
      "needs_background": "light"
     },
     "output_type": "display_data"
    }
   ],
   "source": [
    "plt.scatter(insurance['age'], insurance['charges'], color='blue')\n",
    "plt.xlabel('age')\n",
    "plt.ylabel('charges')\n",
    "plt.title('Sebaran umur dan tagihan kesehatan pengguna asuransi', fontsize=20)"
   ]
  },
  {
   "cell_type": "code",
   "execution_count": 157,
   "id": "8ef5314c",
   "metadata": {},
   "outputs": [
    {
     "data": {
      "text/plain": [
       "Text(0.5, 1.0, 'Sebaran bmi dan tagihan kesehatan pengguna asuransi')"
      ]
     },
     "execution_count": 157,
     "metadata": {},
     "output_type": "execute_result"
    },
    {
     "data": {
      "image/png": "[encoded data removed]",
      "text/plain": [
       "<Figure size 432x288 with 1 Axes>"
      ]
     },
     "metadata": {
      "needs_background": "light"
     },
     "output_type": "display_data"
    }
   ],
   "source": [
    "plt.scatter(insurance['bmi'], insurance['charges'], color='blue')\n",
    "plt.xlabel('bmi')\n",
    "plt.ylabel('charges')\n",
    "plt.title('Sebaran bmi dan tagihan kesehatan pengguna asuransi', fontsize=20)"
   ]
  },
  {
   "cell_type": "markdown",
   "id": "de23964d",
   "metadata": {},
   "source": [
    "# Pengujian Hipotesis\n",
    "Hipotesis yang dipilih adalah\n",
    "1. Tagihan kesehatan perokok lebih tinggi daripada tagihan kesehatan non perokok\n",
    "2. Tagihan kesehatan dengan BMI diatas 25 lebih tinggi daripada tagihan kesehatan dengan BMI dibawah 25\n",
    "3. Tagihan kesehatan laki-laki lebih besar dari perempuan"
   ]
  },
  {
   "cell_type": "markdown",
   "id": "ba8417c2",
   "metadata": {},
   "source": [
    "Langkah-langkah uji hipotesis:\n",
    "\n",
    "    1. Menyatakan hipotesis null dan alternatif hipotesis\n",
    "    2. Menghitung uji statistik\n",
    "    3. Menentukan aturan keputusan\n",
    "    4. Menyatakan rejection decision\n",
    "    5. Kesimpulan"
   ]
  },
  {
   "cell_type": "markdown",
   "id": "730ea780",
   "metadata": {},
   "source": [
    "### 1. Tagihan kesehatan perokok lebih tinggi daripada tagihan kesehatan non perokok\n",
    "#### Hipotesis :\n",
    "    𝐻0:Tagihan Kesehatan Perokok >= tagihan kesehatan non perokok\n",
    "    𝐻1:Tagihan Kesehatan Perokok < tagihan kesehatan non perokok"
   ]
  },
  {
   "cell_type": "code",
   "execution_count": 183,
   "id": "1bf45bf3",
   "metadata": {},
   "outputs": [
    {
     "name": "stdout",
     "output_type": "stream",
     "text": [
      "Statistics = 8.38, p-value = 1.00\n"
     ]
    }
   ],
   "source": [
    "Alpha = 0.05\n",
    "x = np.array(smoker['charges'].sample(n=30))\n",
    "y = np.array(nonsmoker['charges'].sample(n=30))\n",
    "\n",
    "# uji t-test\n",
    "stat, p  = ttest_ind(x,y, equal_var=False, alternative='less')  \n",
    "\n",
    "print('Statistics = %.2f, p-value = %.2f' % (stat,p))"
   ]
  },
  {
   "cell_type": "code",
   "execution_count": 186,
   "id": "07b03798",
   "metadata": {},
   "outputs": [
    {
     "name": "stdout",
     "output_type": "stream",
     "text": [
      "Jika P-Value>Alpha(0.05) maka tidak tolak H0\n",
      "Nilai P-Value =  1.0\n",
      "Sehingga\n",
      "Tidak Tolak 𝐻0\n"
     ]
    }
   ],
   "source": [
    "print('Jika P-Value>Alpha(0.05) maka tidak tolak H0')\n",
    "print('Nilai P-Value = ',round(p,3))\n",
    "print('Sehingga')\n",
    "\n",
    "if p > Alpha: \n",
    "    print('Tidak Tolak 𝐻0')\n",
    "else:\n",
    "    print('Tolak 𝐻0')"
   ]
  },
  {
   "cell_type": "markdown",
   "id": "b83c9646",
   "metadata": {},
   "source": [
    "##### Dengan tingkat kepercayaan 95% maka dapat dinyatakan bahwa tagihan perokok secara rata-rata lebih besar daripada tagihan non perokok."
   ]
  },
  {
   "cell_type": "markdown",
   "id": "54752cdc",
   "metadata": {},
   "source": [
    "### 2. Tagihan kesehatan dengan BMI diatas 25 lebih tinggi daripada tagihan kesehatan dengan BMI dibawah 25\n",
    "#### Hipotesis :\n",
    "    𝐻0:Tagihan Kesehatan dengan BMI diatas 25 >= tagihan kesehatan BMI dibawah 25\n",
    "    𝐻1:Tagihan kesehatan dengan BMI diatas 25 < tagihan kesehatan dengan BMI dibawah 25"
   ]
  },
  {
   "cell_type": "code",
   "execution_count": 192,
   "id": "9110647c",
   "metadata": {},
   "outputs": [
    {
     "name": "stdout",
     "output_type": "stream",
     "text": [
      "Statistics = 1.07, p-value = 0.86\n"
     ]
    }
   ],
   "source": [
    "Alpha = 0.05\n",
    "x = np.array(insurance[insurance['bmi'] > 25.00] ['charges'].sample(n=30))\n",
    "y = np.array(insurance[insurance['bmi'] < 25.00] ['charges'].sample(n=30))\n",
    "\n",
    "# uji t-test\n",
    "stat, p  = ttest_ind(x,y, equal_var=False, alternative='less')  \n",
    "\n",
    "print('Statistics = %.2f, p-value = %.2f' % (stat,p))"
   ]
  },
  {
   "cell_type": "code",
   "execution_count": 193,
   "id": "aba9d583",
   "metadata": {},
   "outputs": [
    {
     "name": "stdout",
     "output_type": "stream",
     "text": [
      "Jika P-Value>Alpha(0.05) maka tidak tolak H0\n",
      "Nilai P-Value =  0.856\n",
      "Sehingga\n",
      "Tidak Tolak 𝐻0\n"
     ]
    }
   ],
   "source": [
    "print('Jika P-Value>Alpha(0.05) maka tidak tolak H0')\n",
    "print('Nilai P-Value = ',round(p,3))\n",
    "print('Sehingga')\n",
    "\n",
    "if p > Alpha: \n",
    "    print('Tidak Tolak 𝐻0')\n",
    "else:\n",
    "    print('Tolak 𝐻0')"
   ]
  },
  {
   "cell_type": "markdown",
   "id": "c028919b",
   "metadata": {},
   "source": [
    "##### Dengan tingkat kepercayaan 95% maka dapat dinyatakan bahwa tagihan pengguna dengan BMI diatas 25 lebih besar daripada tagihan pengguna dengan BMI dibawah 25."
   ]
  },
  {
   "cell_type": "markdown",
   "id": "6c9eb8e1",
   "metadata": {},
   "source": [
    "### 3.Tagihan kesehatan laki-laki lebih besar dari tagihan kesehatan perempuan?\n",
    "#### Hipotesis :\n",
    "    𝐻0:Tagihan kesehatan laki-laki >= tagihan kesehatan perempuan\n",
    "    𝐻1:Tagihan kesehatan laki-laki < tagihan kesehatan perempuan"
   ]
  },
  {
   "cell_type": "code",
   "execution_count": 195,
   "id": "4b625dc0",
   "metadata": {},
   "outputs": [
    {
     "name": "stdout",
     "output_type": "stream",
     "text": [
      "Statistics = -1.47, p-value = 0.07\n"
     ]
    }
   ],
   "source": [
    "Alpha = 0.05\n",
    "x = np.array(insurance[insurance['sex'] == 'male'] ['charges'].sample(n=30))\n",
    "y = np.array(insurance[insurance['sex'] == 'female'] ['charges'].sample(n=30))\n",
    "\n",
    "# uji t-test\n",
    "stat, p  = ttest_ind(x,y, equal_var=False, alternative='less')  \n",
    "\n",
    "print('Statistics = %.2f, p-value = %.2f' % (stat,p))"
   ]
  },
  {
   "cell_type": "code",
   "execution_count": 196,
   "id": "85a43242",
   "metadata": {},
   "outputs": [
    {
     "name": "stdout",
     "output_type": "stream",
     "text": [
      "Jika P-Value>Alpha(0.05) maka tidak tolak H0\n",
      "Nilai P-Value =  0.074\n",
      "Sehingga\n",
      "Tidak Tolak 𝐻0\n"
     ]
    }
   ],
   "source": [
    "print('Jika P-Value>Alpha(0.05) maka tidak tolak H0')\n",
    "print('Nilai P-Value = ',round(p,3))\n",
    "print('Sehingga')\n",
    "\n",
    "if p > Alpha: \n",
    "    print('Tidak Tolak 𝐻0')\n",
    "else:\n",
    "    print('Tolak 𝐻0')"
   ]
  },
  {
   "cell_type": "markdown",
   "id": "87208cc3",
   "metadata": {},
   "source": [
    "##### Dengan tingkat kepercayaan 95% maka dapat dinyatakan bahwa tagihan kesehatan laki-laki lebih tinggi dari tagihan kesehatan perempuan."
   ]
  },
  {
   "cell_type": "code",
   "execution_count": null,
   "id": "d7048e8b",
   "metadata": {},
   "outputs": [],
   "source": []
  }
 ],
 "metadata": {
  "kernelspec": {
   "display_name": "Python 3 (ipykernel)",
   "language": "python",
   "name": "python3"
  },
  "language_info": {
   "codemirror_mode": {
    "name": "ipython",
    "version": 3
   },
   "file_extension": ".py",
   "mimetype": "text/x-python",
   "name": "python",
   "nbconvert_exporter": "python",
   "pygments_lexer": "ipython3",
   "version": "3.9.12"
  }
 },
 "nbformat": 4,
 "nbformat_minor": 5
}
